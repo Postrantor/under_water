{
 "cells": [
  {
   "cell_type": "markdown",
   "metadata": {},
   "source": [
    "# 判断是否是数字\n",
    "对bool的返回值应该用逻辑运算符取反，not or and"
   ]
  },
  {
   "cell_type": "code",
   "execution_count": 1,
   "metadata": {},
   "outputs": [],
   "source": [
    "#! /usr/bin/env python\n",
    "# -*- coding:utf-8 -*-\n",
    "def is_number(num):\n",
    "    try:\n",
    "        float(num)\n",
    "        return True\n",
    "    except ValueError:\n",
    "        print('Input is not numbers: {}'.format(num))\n",
    "    return False\n",
    "# if is_number(10)!=True:\n",
    "#     msg = 'the result of Latched Event Status is not number.')\n",
    "#     LatchedEventStatus = msg\n",
    "# return LatchedEventStatus\n",
    "if not is_number(10):\n",
    "    print('hello')"
   ]
  },
  {
   "cell_type": "markdown",
   "metadata": {},
   "source": [
    "# 字符转数字\n",
    "字符必须是数字才能转"
   ]
  },
  {
   "cell_type": "code",
   "execution_count": 2,
   "metadata": {},
   "outputs": [
    {
     "name": "stdout",
     "output_type": "stream",
     "text": [
      "10\n"
     ]
    }
   ],
   "source": [
    "str = 'num'\n",
    "num = int(str)\n",
    "print(num)"
   ]
  },
  {
   "cell_type": "code",
   "execution_count": 12,
   "metadata": {},
   "outputs": [
    {
     "name": "stdout",
     "output_type": "stream",
     "text": [
      "the result of Latched Event Status is {}.\n"
     ]
    }
   ],
   "source": [
    "try:\n",
    "    # LatchedEventStatus = int('10')\n",
    "    LatchedEventStatus = int('qq')\n",
    "except Exception:\n",
    "    print('the result of Latched Event Status is {}.')\n",
    "    LatchedEventStatus = 'No Power'"
   ]
  },
  {
   "cell_type": "markdown",
   "metadata": {},
   "source": [
    "# isdigit"
   ]
  },
  {
   "cell_type": "code",
   "execution_count": 29,
   "metadata": {},
   "outputs": [
    {
     "ename": "SyntaxError",
     "evalue": "invalid syntax (<ipython-input-29-a19d022a9539>, line 3)",
     "output_type": "error",
     "traceback": [
      "\u001b[0;36m  File \u001b[0;32m\"<ipython-input-29-a19d022a9539>\"\u001b[0;36m, line \u001b[0;32m3\u001b[0m\n\u001b[0;31m    num = strs try strs.isdigit() except Exception '0'\u001b[0m\n\u001b[0m                 ^\u001b[0m\n\u001b[0;31mSyntaxError\u001b[0m\u001b[0;31m:\u001b[0m invalid syntax\n"
     ]
    }
   ],
   "source": [
    "strs = '10'\n",
    "# num = strs if strs.isdigit() else '0'\n",
    "num = strs try strs.isdigit() except Exception '0'\n",
    "print(type(num))\n",
    "# strs.isdigit()"
   ]
  },
  {
   "cell_type": "code",
   "execution_count": 2,
   "metadata": {},
   "outputs": [
    {
     "name": "stdout",
     "output_type": "stream",
     "text": [
      "<type 'str'>\n"
     ]
    }
   ],
   "source": [
    "#! /usr/bin/env python\n",
    "# -*- coding:utf-8 -*-\n",
    "NodeID = '10'\n",
    "try:\n",
    "    q = str(int(NodeID))\n",
    "    print(type(q))\n",
    "except Exception as identifier:\n",
    "    print('Input is not numbers: {}'.format(NodeID))\n"
   ]
  },
  {
   "cell_type": "code",
   "execution_count": 8,
   "metadata": {},
   "outputs": [
    {
     "name": "stdout",
     "output_type": "stream",
     "text": [
      "Speed\n"
     ]
    }
   ],
   "source": [
    "Mode = 'Speed'\n",
    "if isinstance(Mode,str) and (Mode=='Position' or Mode=='Speed' or Mode=='Current'):\n",
    "    print(Mode)"
   ]
  },
  {
   "cell_type": "code",
   "execution_count": 10,
   "metadata": {},
   "outputs": [
    {
     "name": "stdout",
     "output_type": "stream",
     "text": [
      "0 g r0xa0\n"
     ]
    }
   ],
   "source": [
    "num = '0'\n",
    "print('{} g r0xa0'.format(num))"
   ]
  }
 ],
 "metadata": {
  "kernelspec": {
   "display_name": "Python 2.7.17 64-bit",
   "metadata": {
    "interpreter": {
     "hash": "767d51c1340bd893661ea55ea3124f6de3c7a262a8b4abca0554b478b1e2ff90"
    }
   },
   "name": "python3"
  },
  "language_info": {
   "codemirror_mode": {
    "name": "ipython",
    "version": 2
   },
   "file_extension": ".py",
   "mimetype": "text/x-python",
   "name": "python",
   "nbconvert_exporter": "python",
   "pygments_lexer": "ipython2",
   "version": "2.7.17"
  },
  "orig_nbformat": 2
 },
 "nbformat": 4,
 "nbformat_minor": 2
}