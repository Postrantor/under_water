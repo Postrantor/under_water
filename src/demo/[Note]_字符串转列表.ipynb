{
 "cells": [
  {
   "cell_type": "code",
   "execution_count": 1,
   "metadata": {},
   "outputs": [
    {
     "name": "stdout",
     "output_type": "stream",
     "text": [
      "('string: ', 'Hello world!')\n",
      "split string...\n",
      "['H', 'e', 'l', 'l', 'o', ' ', 'w', 'o', 'r', 'l', 'd', '!']\n"
     ]
    }
   ],
   "source": [
    "#! /usr/bin/env python\n",
    "# -*- coding:utf-8 -*-\n",
    " \n",
    "# function to split string\n",
    "def split_str(s):\n",
    "  return list(s)\n",
    " \n",
    "# main code  \n",
    "string = \"Hello world!\"\n",
    " \n",
    "print(\"string: \", string)\n",
    "print(\"split string...\")\n",
    "print(split_str(string))"
   ]
  },
  {
   "cell_type": "code",
   "execution_count": 2,
   "metadata": {},
   "outputs": [
    {
     "name": "stdout",
     "output_type": "stream",
     "text": [
      "('string: ', 'Hello world!')\n",
      "split string...\n",
      "['H', 'e', 'l', 'l', 'o', ' ', 'w', 'o', 'r', 'l', 'd', '!']\n"
     ]
    }
   ],
   "source": [
    "# Split string using for loop\n",
    " \n",
    "# function to split string\n",
    "def split_str(s):\n",
    "  return [ch for ch in s]\n",
    " \n",
    "# main code  \n",
    "string = \"Hello world!\"\n",
    " \n",
    "print(\"string: \", string)\n",
    "print(\"split string...\")\n",
    "print(split_str(string))"
   ]
  },
  {
   "cell_type": "code",
   "execution_count": 24,
   "metadata": {},
   "outputs": [
    {
     "name": "stdout",
     "output_type": "stream",
     "text": [
      "1\n",
      "Hello\n"
     ]
    }
   ],
   "source": [
    "arg = list('10')\n",
    "for target_list in reversed(arg):\n",
    "    if int(target_list)&1!=0:\n",
    "        print('{}'.format(target_list))\n",
    "        print(\"Hello\")"
   ]
  },
  {
   "cell_type": "markdown",
   "metadata": {},
   "source": [
    "# Python倒序循环列表(序列)\n",
    "如果要倒序遍历访问序列中的元素，可以对该序列使用reversed() 函数，reversed函数会生成一份倒序列表的拷贝，但是不会改变原列表。这个函数理解起来很自然，例如 for i in reversed(list)，示例代码："
   ]
  },
  {
   "cell_type": "code",
   "execution_count": 12,
   "metadata": {},
   "outputs": [
    {
     "name": "stdout",
     "output_type": "stream",
     "text": [
      "5\n",
      "4\n",
      "2\n",
      "1\n"
     ]
    },
    {
     "data": {
      "text/plain": "[1, 2, 4, 5]"
     },
     "execution_count": 12,
     "metadata": {},
     "output_type": "execute_result"
    }
   ],
   "source": [
    "lista = [1,2,4,5]\n",
    "for i in reversed(lista):\n",
    "    print(i)\n",
    "\n",
    "lista # lista的值不变"
   ]
  },
  {
   "cell_type": "markdown",
   "metadata": {},
   "source": [
    "另一种方法理解起来绕一点，从列表最后一位下标的元素往前循环，步长为-1，直到数组下标为0的元素。从效率上来说比前一种更好，因为不需要更多的内存开销来存放reversed(list)副本。"
   ]
  },
  {
   "cell_type": "code",
   "execution_count": 13,
   "metadata": {},
   "outputs": [
    {
     "name": "stdout",
     "output_type": "stream",
     "text": [
      "5\n",
      "4\n",
      "2\n",
      "1\n"
     ]
    }
   ],
   "source": [
    "for i in range(len(lista)-1,-1,-1):\n",
    "    print(lista[i])  "
   ]
  },
  {
   "cell_type": "markdown",
   "metadata": {},
   "source": [
    "# 在迭代一个序列的同时跟踪正在被处理的元素索引\n",
    "内置的 enumerate() 函数可以很好的解决这个问题："
   ]
  },
  {
   "cell_type": "code",
   "execution_count": 26,
   "metadata": {},
   "outputs": [
    {
     "name": "stdout",
     "output_type": "stream",
     "text": [
      "(0, 'c')\n",
      "(1, 'b')\n",
      "(2, 'a')\n"
     ]
    }
   ],
   "source": [
    "my_list = ['a', 'b', 'c']\n",
    "for idx, val in enumerate(reversed(my_list)):\n",
    "    print(idx, val)"
   ]
  },
  {
   "cell_type": "code",
   "execution_count": 28,
   "metadata": {},
   "outputs": [
    {
     "name": "stdout",
     "output_type": "stream",
     "text": [
      "<type 'list'>['H', 'Q']\n"
     ]
    }
   ],
   "source": [
    "argout = []\n",
    "argout.append('H')\n",
    "argout.append('Q')\n",
    "print('{}{}'.format(type(argout), argout))"
   ]
  },
  {
   "cell_type": "code",
   "execution_count": 37,
   "metadata": {},
   "outputs": [
    {
     "name": "stdout",
     "output_type": "stream",
     "text": [
      "0b10\n",
      "['1', '0']\n"
     ]
    }
   ],
   "source": [
    "a = bin(int('2'))\n",
    "print(a)\n",
    "b = list(a[2:])\n",
    "print(b)"
   ]
  }
 ],
 "metadata": {
  "kernelspec": {
   "display_name": "Python 2.7.17 64-bit",
   "metadata": {
    "interpreter": {
     "hash": "767d51c1340bd893661ea55ea3124f6de3c7a262a8b4abca0554b478b1e2ff90"
    }
   },
   "name": "python3"
  },
  "language_info": {
   "codemirror_mode": {
    "name": "ipython",
    "version": 2
   },
   "file_extension": ".py",
   "mimetype": "text/x-python",
   "name": "python",
   "nbconvert_exporter": "python",
   "pygments_lexer": "ipython2",
   "version": "2.7.17"
  },
  "orig_nbformat": 2
 },
 "nbformat": 4,
 "nbformat_minor": 2
}