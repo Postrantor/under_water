{
 "cells": [
  {
   "cell_type": "markdown",
   "metadata": {},
   "source": [
    "# 运算符"
   ]
  },
  {
   "cell_type": "code",
   "execution_count": 4,
   "metadata": {},
   "outputs": [
    {
     "name": "stdout",
     "output_type": "stream",
     "text": [
      "(1.2777777777777777, 0)\n"
     ]
    }
   ],
   "source": [
    "# 注意要加小数点转为float，不然计算出来的就是零\n",
    "a = 46./360*10\n",
    "Stroke = 1000 * (46/360*10)\n",
    "print(a, Stroke)"
   ]
  },
  {
   "cell_type": "markdown",
   "metadata": {},
   "source": [
    "# print_log"
   ]
  },
  {
   "cell_type": "code",
   "execution_count": 3,
   "metadata": {},
   "outputs": [],
   "source": [
    "#! /usr/bin/env python\n",
    "# -*- coding:utf-8 -*-\n",
    "import time\n",
    "\n",
    "port = '/dev/usb'\n",
    "baudrate = 9600\n",
    "timeout = .1\n",
    "\n",
    "import subprocess\n",
    "def subprocess_():\n",
    "    '''\n",
    "        subprocess模块执行linux命令\n",
    "        :return:\n",
    "    '''\n",
    "    subprocess.call(\"clear\") # do `clear`\n",
    "# subprocess_()\n",
    "\n",
    "def print_log(mode=None):\n",
    "    if mode=='full_msg':\n",
    "        msg = '\\n\\t- PortID: {}\\n\\t- Buad: {}\\n\\t- TimeOut: {}\\n\\t- Time: {}'.format(port, baudrate, timeout, time.asctime())\n",
    "    elif mode=='time_msg':\n",
    "        msg = '\\n\\t- PortID: {}\\n\\t- Time: {}'.format(port, time.asctime())\n",
    "    else:\n",
    "        msg = '\\n\\t- PortID: {}'.format(port)\n",
    "    return msg\n",
    "\n",
    "# print('Serial Port is OK{}'.format(print_log('time_msg')))\n"
   ]
  },
  {
   "cell_type": "markdown",
   "metadata": {},
   "source": [
    "# open serial\n",
    "主要解决重复打开端口的问题"
   ]
  },
  {
   "cell_type": "code",
   "execution_count": 4,
   "metadata": {},
   "outputs": [
    {
     "name": "stdout",
     "output_type": "stream",
     "text": [
      "Serial Port is OK.\n",
      "\t- PortID: /dev/usb\n",
      "\t- Buad: 9600\n",
      "\t- TimeOut: 0.1\n",
      "\t- Time: Sat Mar  6 08:09:45 2021\n"
     ]
    }
   ],
   "source": [
    "#! /usr/bin/env python\n",
    "# -*- coding:utf-8 -*-\n",
    "# /dev/ttyAMA0\n",
    "import serial\n",
    "class class1():\n",
    "    def openSerialPort(self):\n",
    "        try:\n",
    "            self.dev_serial.open()\n",
    "        except Exception as result:\n",
    "            # print('{}{}'.format(result, print_log()))\n",
    "            pass\n",
    "class class2(class1):\n",
    "    def serial_test(self):\n",
    "        self.dev_serial = serial.Serial()\n",
    "        self.dev_serial.port = '/dev/ttyAMA0'\n",
    "        self.dev_serial.timeout = .1\n",
    "        self.dev_serial.baudrate = 9600\n",
    "        self.dev_serial.open()\n",
    "        self.openSerialPort()\n",
    "        # dev_serial.close()\n",
    "        # self.dev_serial.write('{} r\\n'.format(str(self.NodeID)))\n",
    "        # time.sleep(5)\n",
    "        if self.dev_serial.isOpen() and self.dev_serial.readable():\n",
    "            print('Serial Port is OK.{}'.format(print_log('full_msg')))\n",
    "        else:\n",
    "            print('Serial Port is ERROR.{}'.format(print_log('full_msg')))\n",
    "\n",
    "serial_test = class2()\n",
    "serial_test.serial_test()"
   ]
  },
  {
   "cell_type": "markdown",
   "metadata": {},
   "source": [
    "# debug\n",
    "尝试一下组合的形式，将msg和print_log的输出组合，作为调试信息\n",
    "该信息，仅在调试的时候使用"
   ]
  },
  {
   "cell_type": "code",
   "execution_count": 14,
   "metadata": {},
   "outputs": [
    {
     "name": "stdout",
     "output_type": "stream",
     "text": [
      "in read_position()\n",
      "\t- PortID: /dev/usb\n",
      "\t- Time: Sat Mar  6 09:33:49 2021\n"
     ]
    }
   ],
   "source": [
    "#! /usr/bin/env python\n",
    "# -*- coding:utf-8 -*-\n",
    "def debug_stream(msg):\n",
    "    '''\n",
    "        output debug info\n",
    "    '''\n",
    "    print(msg + '{}'.format(print_log('time_msg')))\n",
    "debug_stream('in read_position()')"
   ]
  },
  {
   "cell_type": "markdown",
   "metadata": {},
   "source": [
    "# num type\n",
    "尝试在形参处将传递的参数数值类型进行转变，发现不行"
   ]
  },
  {
   "cell_type": "code",
   "execution_count": 17,
   "metadata": {},
   "outputs": [
    {
     "data": {
      "text/plain": "int"
     },
     "execution_count": 17,
     "metadata": {},
     "output_type": "execute_result"
    }
   ],
   "source": [
    "#! /usr/bin/env python\n",
    "# -*- coding:utf-8 -*-\n",
    "def num_type(data):\n",
    "    \"\"\"\n",
    "    docstring\n",
    "    \"\"\"\n",
    "    return type(data)\n",
    "num_type(55)"
   ]
  },
  {
   "cell_type": "markdown",
   "metadata": {},
   "source": [
    "# 连续赋值"
   ]
  },
  {
   "cell_type": "code",
   "execution_count": 6,
   "metadata": {},
   "outputs": [
    {
     "name": "stdout",
     "output_type": "stream",
     "text": [
      "11\n"
     ]
    }
   ],
   "source": [
    "a = b = 1\n",
    "print('{}{}'.format(a, b))"
   ]
  },
  {
   "cell_type": "markdown",
   "metadata": {},
   "source": [
    "# 元组"
   ]
  },
  {
   "cell_type": "code",
   "execution_count": 2,
   "metadata": {},
   "outputs": [
    {
     "name": "stdout",
     "output_type": "stream",
     "text": [
      "3\n"
     ]
    }
   ],
   "source": [
    "argout = []\n",
    "argout = ['1', '2']\n",
    "argout = '3'\n",
    "print('{}'.format(argout))"
   ]
  },
  {
   "cell_type": "markdown",
   "metadata": {},
   "source": [
    "# 保存列表"
   ]
  },
  {
   "cell_type": "code",
   "execution_count": null,
   "metadata": {},
   "outputs": [],
   "source": [
    "data = [0,1,2,3,4,5,6,7,8,9]\n",
    "data.append(10)\n",
    "data = data[1:]\n",
    "print(data)"
   ]
  },
  {
   "cell_type": "markdown",
   "metadata": {},
   "source": [
    "# 列表调用"
   ]
  },
  {
   "cell_type": "code",
   "execution_count": null,
   "metadata": {},
   "outputs": [],
   "source": [
    "def power():\n",
    "    remaining = 10\n",
    "    consumed = 100\n",
    "    capacity = 1000\n",
    "    percentage = 100000\n",
    "    print('调用')\n",
    "    return {'r':remaining, 'c':consumed, 'ca':capacity, 'p':percentage}\n",
    "r = power()\n",
    "print('{}{}'.format(r['r'], r['c']))"
   ]
  },
  {
   "cell_type": "markdown",
   "metadata": {},
   "source": [
    "# 全局变量导入"
   ]
  },
  {
   "cell_type": "code",
   "execution_count": null,
   "metadata": {},
   "outputs": [],
   "source": [
    "import copley.scripts.constant_lib.Constant_Motor as Drive\n",
    "print(Drive.Drive_Current)\n"
   ]
  },
  {
   "cell_type": "markdown",
   "metadata": {},
   "source": [
    "# 1、0和True、False"
   ]
  },
  {
   "cell_type": "code",
   "execution_count": 2,
   "metadata": {},
   "outputs": [
    {
     "name": "stdout",
     "output_type": "stream",
     "text": [
      "False\n"
     ]
    }
   ],
   "source": [
    "adjust_left = 1\n",
    "if adjust_left==True:\n",
    "    print(\"True\")\n",
    "else:\n",
    "    print(\"False\")"
   ]
  },
  {
   "cell_type": "markdown",
   "metadata": {},
   "source": [
    "# 返回值"
   ]
  },
  {
   "cell_type": "code",
   "execution_count": 4,
   "metadata": {},
   "outputs": [
    {
     "name": "stdout",
     "output_type": "stream",
     "text": [
      "2\t1\n"
     ]
    }
   ],
   "source": [
    "def funcname():\n",
    "    a=1\n",
    "    b=2\n",
    "    return a, b\n",
    "c, d = funcname()\n",
    "print('{}\\t{}'.format(d, c))"
   ]
  },
  {
   "cell_type": "markdown",
   "metadata": {},
   "source": [
    "# 取反"
   ]
  },
  {
   "cell_type": "code",
   "execution_count": 8,
   "metadata": {},
   "outputs": [
    {
     "name": "stdout",
     "output_type": "stream",
     "text": [
      "False\n"
     ]
    }
   ],
   "source": [
    "a = False\n",
    "if not a:\n",
    "    print(a)"
   ]
  }
 ],
 "metadata": {
  "kernelspec": {
   "display_name": "Python 2.7.17 64-bit",
   "metadata": {
    "interpreter": {
     "hash": "767d51c1340bd893661ea55ea3124f6de3c7a262a8b4abca0554b478b1e2ff90"
    }
   },
   "name": "python3"
  },
  "language_info": {
   "codemirror_mode": {
    "name": "ipython",
    "version": 2
   },
   "file_extension": ".py",
   "mimetype": "text/x-python",
   "name": "python",
   "nbconvert_exporter": "python",
   "pygments_lexer": "ipython2",
   "version": "2.7.17"
  },
  "orig_nbformat": 2
 },
 "nbformat": 4,
 "nbformat_minor": 2
}