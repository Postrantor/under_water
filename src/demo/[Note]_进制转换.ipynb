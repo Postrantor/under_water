{
  "cells": [
    {
      "cell_type": "markdown",
      "metadata": {},
      "source": [
        "# 遍历二进制数"
      ]
    },
    {
      "cell_type": "code",
      "execution_count": null,
      "metadata": {},
      "outputs": [],
      "source": [
        "#! /usr/bin/env python\n",
        "# -*- coding:utf-8 -*-\n",
        "def switch(num):\n",
        "    if (num&1)!=0:\n",
        "        print('bit 1 is 1')\n",
        "    elif (num&2)!=0:\n",
        "        print('bit 2 is 1')\n",
        "    elif (num&4)!=0:\n",
        "        print('bit 3 is 1')\n",
        "    else:\n",
        "        print('out range')\n",
        "switch(3)"
      ]
    },
    {
      "cell_type": "markdown",
      "metadata": {},
      "source": [
        "# 进制转换1"
      ]
    },
    {
      "cell_type": "code",
      "execution_count": 10,
      "metadata": {},
      "outputs": [
        {
          "name": "stdout",
          "output_type": "stream",
          "text": [
            "1000000001111101000 1000000001\n"
          ]
        }
      ],
      "source": [
        "#! /usr/bin/env python\n",
        "# -*- coding:utf-8 -*-\n",
        "def dec2bin(num):\n",
        "    l = []\n",
        "    if num < 0:\n",
        "        return '-' + dec2bin(abs(num))\n",
        "    while True:\n",
        "        num, remainder = divmod(num, 2)\n",
        "        l.append(str(remainder))\n",
        "        if num == 0:\n",
        "            return ''.join(l[::-1])\n",
        "bin = dec2bin(263144)\n",
        "print(bin, bin[:10])"
      ]
    },
    {
      "cell_type": "markdown",
      "metadata": {},
      "source": [
        "# 进制转换2\n",
        "这个也可以，优选"
      ]
    },
    {
      "cell_type": "code",
      "execution_count": 3,
      "metadata": {},
      "outputs": [
        {
          "name": "stdout",
          "output_type": "stream",
          "text": [
            "十进制数为：4\n",
            "转换为二进制为：0b100\n",
            "转换为八进制为：04\n",
            "转换为十六进制为：0x4\n"
          ]
        }
      ],
      "source": [
        "#! /usr/bin/env python\n",
        "# -*- coding:utf-8 -*-\n",
        "def convert(dec):\n",
        "    print(\"十进制数为：{}\".format(dec))\n",
        "    print(\"转换为二进制为：{}\".format(bin(dec)))\n",
        "    print(\"转换为八进制为：{}\".format(oct(dec)))\n",
        "    print(\"转换为十六进制为：{}\".format(hex(dec)))\n",
        "convert(4)"
      ]
    },
    {
      "cell_type": "markdown",
      "metadata": {},
      "source": [
        "# 进制转换3\n",
        "这个最简洁"
      ]
    },
    {
      "cell_type": "code",
      "execution_count": 8,
      "metadata": {},
      "outputs": [
        {
          "data": {
            "text/plain": "'377, ff, FF'"
          },
          "execution_count": 8,
          "metadata": {},
          "output_type": "execute_result"
        }
      ],
      "source": [
        "int('255'), int('0xFF', 16)\n",
        "eval('255'), eval('0xFF') # 除此之外还可以使用eval，功能类似于int函数，但是它的参数是python代码。\n",
        "oct(255), hex(255), bin(255)\n",
        "'{0:0}, {1:x}, {2:b}'.format(255, 255, 255)\n",
        "'%o, %x, %X' % (255, 255, 255)"
      ]
    },
    {
      "cell_type": "code",
      "execution_count": 4,
      "metadata": {},
      "outputs": [
        {
          "data": {
            "text/plain": "'0, 1, 10'"
          },
          "execution_count": 4,
          "metadata": {},
          "output_type": "execute_result"
        }
      ],
      "source": [
        "'{0:0}, {1:x}, {2:b}'.format(0, 1, 2)"
      ]
    }
  ],
  "metadata": {
    "kernelspec": {
      "display_name": "Python 2.7.17 64-bit",
      "metadata": {
        "interpreter": {
          "hash": "767d51c1340bd893661ea55ea3124f6de3c7a262a8b4abca0554b478b1e2ff90"
        }
      },
      "name": "python3"
    },
    "language_info": {
      "codemirror_mode": {
        "name": "ipython",
        "version": 2
      },
      "file_extension": ".py",
      "mimetype": "text/x-python",
      "name": "python",
      "nbconvert_exporter": "python",
      "pygments_lexer": "ipython2",
      "version": "2.7.17"
    },
    "orig_nbformat": 2
  },
  "nbformat": 4,
  "nbformat_minor": 2
}
