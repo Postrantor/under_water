{
  "cells": [
    {
      "cell_type": "markdown",
      "metadata": {},
      "source": [
        "# 将时间戳添加到文件名中\n",
        "int tm_sec; /* 秒 – 取值区间为[0,59] */\n",
        "int tm_min; /* 分 - 取值区间为[0,59] */\n",
        "int tm_hour; /* 时 - 取值区间为[0,23] */\n",
        "int tm_mday; /* 一个月中的日期 - 取值区间为[1,31] */\n",
        "int tm_mon; /* 月份（从一月开始，0代表一月） - 取值区间为[0,11] */\n",
        "int tm_year; /* 年份，其值等于实际年份减去1900 */\n",
        "int tm_wday; /* 星期 – 取值区间为[0,6]，其中0代表星期一，1代表星期二，以此类推 */\n",
        "int tm_yday; /* 从每年的1月1日开始的天数 – 取值区间为[0,365]，其中0代表1月1日，1代表1月2日，以此类推 */\n",
        "int tm_isdst; /* 夏令时标识符，实行夏令时的时候，tm_isdst为正。不实行夏令时的时候，tm_isdst为0；不了解情况时，tm_isdst()为负。"
      ]
    },
    {
      "cell_type": "code",
      "execution_count": 3,
      "metadata": {},
      "outputs": [
        {
          "name": "stdout",
          "output_type": "stream",
          "text": [
            "PublisherNameFan_20214111716.bag\n",
            "time.struct_time(tm_year=2021, tm_mon=4, tm_mday=11, tm_hour=17, tm_min=16, tm_sec=5, tm_wday=6, tm_yday=101, tm_isdst=0)\n",
            "2021\n"
          ]
        }
      ],
      "source": [
        "import time\n",
        "bag_time = '{}{}{}{}{}'.format(time.localtime().tm_year, time.localtime().tm_mon, time.localtime().tm_mday, time.localtime().tm_hour, time.localtime().tm_min)\n",
        "\n",
        "print('{}_{}.bag'.format('PublisherNameFan', bag_time))\n",
        "print(time.localtime())\n",
        "print(time.localtime().tm_year)"
      ]
    }
  ],
  "metadata": {
    "kernelspec": {
      "display_name": "Python 2",
      "language": "python",
      "name": "python2"
    },
    "language_info": {
      "codemirror_mode": {
        "name": "ipython",
        "version": 2
      },
      "file_extension": ".py",
      "mimetype": "text/x-python",
      "name": "python",
      "nbconvert_exporter": "python",
      "pygments_lexer": "ipython2",
      "version": "2.7.17"
    },
    "orig_nbformat": 2
  },
  "nbformat": 4,
  "nbformat_minor": 2
}
